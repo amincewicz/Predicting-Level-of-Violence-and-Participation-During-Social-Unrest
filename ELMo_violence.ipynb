{
 "cells": [
  {
   "cell_type": "code",
   "execution_count": 1,
   "metadata": {},
   "outputs": [],
   "source": [
    "from sklearn.decomposition import PCA\n",
    "from sklearn.manifold import TSNE\n",
    "import plotly.plotly as py\n",
    "import plotly.graph_objs as go\n",
    "from plotly.offline import download_plotlyjs, init_notebook_mode, plot, iplot\n",
    "import twitter\n",
    "import json\n",
    "from nltk import word_tokenize\n",
    "import nltk\n",
    "import string\n",
    "import re\n",
    "import io\n",
    "import itertools\n",
    "import ast\n",
    "import pandas as pd \n",
    "import tensorflow as tf\n",
    "import tensorflow_hub as hub\n",
    "from tensorflow.keras.layers import Input, Lambda, Bidirectional, Dense, Dropout,LSTM\n",
    "from tensorflow.keras.models import Model\n",
    "import tensorflow.keras.layers\n",
    "import tensorflow.keras.backend as K\n",
    "import numpy as np\n",
    "from sklearn.model_selection import train_test_split,cross_val_predict\n",
    "from sklearn import preprocessing\n",
    "from sklearn import metrics\n",
    "from sklearn.metrics import confusion_matrix"
   ]
  },
  {
   "cell_type": "markdown",
   "metadata": {},
   "source": [
    "Clean Data"
   ]
  },
  {
   "cell_type": "code",
   "execution_count": 2,
   "metadata": {},
   "outputs": [],
   "source": [
    "def tweet_function2(fname): \n",
    "\n",
    "        \n",
    "    data =[]\n",
    "\n",
    "    text=[]\n",
    "    \n",
    "    \n",
    "    file = open(fname, \"r\")\n",
    "    for line in file:\n",
    "        data.append(json.loads(line))\n",
    " \n",
    "    for i in data:\n",
    "        \n",
    "        data = i['text']\n",
    "        \n",
    "        \n",
    "        data = re.sub('https?:\\/{2}[\\d\\w]+\\.([\\d\\w]+)*(\\/[^\\s]*)*', ' ', data)  #to get rid of links\n",
    "            # to get rid of all emoticons\n",
    "        data=re.sub(u'([\\U00002600-\\U000027BF])|([\\U0001f300-\\U0001f64F])|([\\U0001f680-\\U0001f6FF])|([\\U0001F600-\\U0001F64F])|([\\U0001F300-\\U0001F5FF])|([\\U0001F680-\\U0001F6FF])|([\\U0001F1E0-\\U0001F1FF])|([\\U00002702-\\U000027B0])|([\\U000024C2-\\U0001F251])','', data)\n",
    "            #data[i][\"text\"] = emoji.get_emoji_regexp().sub(u'', data[i][\"text\"])\n",
    "            # to get rid of all the # and  @ words as it can be found in the json file tags\n",
    "        data=re.sub(r'(\\s)@\\w+|(\\s)#\\w+', r'\\1',data)\n",
    "            #to get rid of RT from the tweet text\n",
    "        data=re.sub(r'RT : ',' ',data)\n",
    "        data=re.sub('[\\.]+', ' ',data)\n",
    "            # to get rid of all new line char\n",
    "        data = re.sub('\\n+|\\t+', ' ', data)\n",
    "        data= re.sub(r\"\\b[a-zA-Z]\\b\", \" \", data)\n",
    "        data = re.sub(r'\\W',' ',data)\n",
    "        data = re.sub(r'\\s+',' ',data)\n",
    "        data=' '.join(word.strip(string.punctuation) for word in data.split(' '))\n",
    "        if data != \" \":\n",
    "            text.append(data)\n",
    "        #data=nltk.word_tokenize(data)\n",
    "        #print(data)\n",
    "       \n",
    "        \n",
    "    return text\n",
    "\n",
    "\n",
    "\n",
    "clean_data2=tweet_function2('tweets2_la.json')\n",
    "clean_data3=tweet_function2('tweets3_sea.json')\n",
    "clean_data5=tweet_function2('tweets5_nyc_nohatenofear.json')\n",
    "clean_data9=tweet_function2('tweets9_australiafires.json')\n",
    "clean_data11=tweet_function2('tweets11_fightinlon.json')\n",
    "clean_data12=tweet_function2('tweets12_womensmarchsanfran.json')\n",
    "clean_data13=tweet_function2('tweets13_march4lifeAustin.json')\n",
    "clean_data14=tweet_function2('tweets14_march4lifeDC.json')\n",
    "clean_data15=tweet_function2('tweets15_antifaNYC.json')\n",
    "clean_data17=tweet_function2('tweets17_transrightsSea.json')\n",
    "clean_data18=tweet_function2('tweets18_antifaPdx.json')\n",
    "clean_dataChar=tweet_function2('Char.json')"
   ]
  },
  {
   "cell_type": "markdown",
   "metadata": {},
   "source": [
    "Data Frame"
   ]
  },
  {
   "cell_type": "code",
   "execution_count": 3,
   "metadata": {},
   "outputs": [
    {
     "data": {
      "text/html": [
       "<div>\n",
       "<style scoped>\n",
       "    .dataframe tbody tr th:only-of-type {\n",
       "        vertical-align: middle;\n",
       "    }\n",
       "\n",
       "    .dataframe tbody tr th {\n",
       "        vertical-align: top;\n",
       "    }\n",
       "\n",
       "    .dataframe thead th {\n",
       "        text-align: right;\n",
       "    }\n",
       "</style>\n",
       "<table border=\"1\" class=\"dataframe\">\n",
       "  <thead>\n",
       "    <tr style=\"text-align: right;\">\n",
       "      <th></th>\n",
       "      <th>Tweet</th>\n",
       "      <th>Violence_Level</th>\n",
       "    </tr>\n",
       "  </thead>\n",
       "  <tbody>\n",
       "    <tr>\n",
       "      <th>0</th>\n",
       "      <td>Los Angeles Dodgers LED Flashlight</td>\n",
       "      <td>0</td>\n",
       "    </tr>\n",
       "    <tr>\n",
       "      <th>1</th>\n",
       "      <td>Los Angeles Dodgers LED Flashlight</td>\n",
       "      <td>0</td>\n",
       "    </tr>\n",
       "    <tr>\n",
       "      <th>2</th>\n",
       "      <td>If you re in the Los Angeles CA area stop by a...</td>\n",
       "      <td>0</td>\n",
       "    </tr>\n",
       "    <tr>\n",
       "      <th>3</th>\n",
       "      <td>LA today</td>\n",
       "      <td>0</td>\n",
       "    </tr>\n",
       "    <tr>\n",
       "      <th>4</th>\n",
       "      <td>Jane Lynch calls out Elizabeth Warren on behal...</td>\n",
       "      <td>0</td>\n",
       "    </tr>\n",
       "    <tr>\n",
       "      <th>...</th>\n",
       "      <td>...</td>\n",
       "      <td>...</td>\n",
       "    </tr>\n",
       "    <tr>\n",
       "      <th>3021</th>\n",
       "      <td>Merry Christmas and Happy Holidays from all ou...</td>\n",
       "      <td>0</td>\n",
       "    </tr>\n",
       "    <tr>\n",
       "      <th>3022</th>\n",
       "      <td>JaValle donate direct to those in need This i...</td>\n",
       "      <td>0</td>\n",
       "    </tr>\n",
       "    <tr>\n",
       "      <th>3023</th>\n",
       "      <td>Agency Employees Volunteer Support for Kids in...</td>\n",
       "      <td>0</td>\n",
       "    </tr>\n",
       "    <tr>\n",
       "      <th>3024</th>\n",
       "      <td>Lime to pull bikes from Seattle bring them bac...</td>\n",
       "      <td>0</td>\n",
       "    </tr>\n",
       "    <tr>\n",
       "      <th>3025</th>\n",
       "      <td>Have you ever had role like PT Plant Engineeri...</td>\n",
       "      <td>0</td>\n",
       "    </tr>\n",
       "  </tbody>\n",
       "</table>\n",
       "<p>3026 rows × 2 columns</p>\n",
       "</div>"
      ],
      "text/plain": [
       "                                                  Tweet  Violence_Level\n",
       "0                   Los Angeles Dodgers LED Flashlight                0\n",
       "1                   Los Angeles Dodgers LED Flashlight                0\n",
       "2     If you re in the Los Angeles CA area stop by a...               0\n",
       "3                                             LA today                0\n",
       "4     Jane Lynch calls out Elizabeth Warren on behal...               0\n",
       "...                                                 ...             ...\n",
       "3021  Merry Christmas and Happy Holidays from all ou...               0\n",
       "3022   JaValle donate direct to those in need This i...               0\n",
       "3023  Agency Employees Volunteer Support for Kids in...               0\n",
       "3024  Lime to pull bikes from Seattle bring them bac...               0\n",
       "3025  Have you ever had role like PT Plant Engineeri...               0\n",
       "\n",
       "[3026 rows x 2 columns]"
      ]
     },
     "execution_count": 3,
     "metadata": {},
     "output_type": "execute_result"
    }
   ],
   "source": [
    "#combine the lists\n",
    "zero_viol = clean_data2 + clean_data3\n",
    "#create df from the list\n",
    "df_zero_viol=pd.DataFrame(zero_viol,columns=[\"Tweet\"])\n",
    "#add the violence column\n",
    "df_zero_viol['Violence_Level']=0\n",
    "df_zero_viol"
   ]
  },
  {
   "cell_type": "code",
   "execution_count": 4,
   "metadata": {},
   "outputs": [
    {
     "data": {
      "text/html": [
       "<div>\n",
       "<style scoped>\n",
       "    .dataframe tbody tr th:only-of-type {\n",
       "        vertical-align: middle;\n",
       "    }\n",
       "\n",
       "    .dataframe tbody tr th {\n",
       "        vertical-align: top;\n",
       "    }\n",
       "\n",
       "    .dataframe thead th {\n",
       "        text-align: right;\n",
       "    }\n",
       "</style>\n",
       "<table border=\"1\" class=\"dataframe\">\n",
       "  <thead>\n",
       "    <tr style=\"text-align: right;\">\n",
       "      <th></th>\n",
       "      <th>Tweet</th>\n",
       "      <th>Violence_Level</th>\n",
       "    </tr>\n",
       "  </thead>\n",
       "  <tbody>\n",
       "    <tr>\n",
       "      <th>0</th>\n",
       "      <td>got to speak with Rep Chip Roy yesterday at t...</td>\n",
       "      <td>1</td>\n",
       "    </tr>\n",
       "    <tr>\n",
       "      <th>1</th>\n",
       "      <td>got to speak with Rep Chip Roy yesterday at t...</td>\n",
       "      <td>1</td>\n",
       "    </tr>\n",
       "    <tr>\n",
       "      <th>2</th>\n",
       "      <td>got to speak with Rep Chip Roy yesterday at t...</td>\n",
       "      <td>1</td>\n",
       "    </tr>\n",
       "    <tr>\n",
       "      <th>3</th>\n",
       "      <td>March For Life Thousands of Pro Life Texans M...</td>\n",
       "      <td>1</td>\n",
       "    </tr>\n",
       "    <tr>\n",
       "      <th>4</th>\n",
       "      <td>March For Life Thousands of Pro Life Texans M...</td>\n",
       "      <td>1</td>\n",
       "    </tr>\n",
       "    <tr>\n",
       "      <th>...</th>\n",
       "      <td>...</td>\n",
       "      <td>...</td>\n",
       "    </tr>\n",
       "    <tr>\n",
       "      <th>19160</th>\n",
       "      <td>People calling protesters are really on to so...</td>\n",
       "      <td>1</td>\n",
       "    </tr>\n",
       "    <tr>\n",
       "      <th>19161</th>\n",
       "      <td>People calling protesters are really on to so...</td>\n",
       "      <td>1</td>\n",
       "    </tr>\n",
       "    <tr>\n",
       "      <th>19162</th>\n",
       "      <td>People calling protesters are really on to so...</td>\n",
       "      <td>1</td>\n",
       "    </tr>\n",
       "    <tr>\n",
       "      <th>19163</th>\n",
       "      <td>People calling protesters are really on to so...</td>\n",
       "      <td>1</td>\n",
       "    </tr>\n",
       "    <tr>\n",
       "      <th>19164</th>\n",
       "      <td>Masked bigots scream and resist arrest at the...</td>\n",
       "      <td>1</td>\n",
       "    </tr>\n",
       "  </tbody>\n",
       "</table>\n",
       "<p>19165 rows × 2 columns</p>\n",
       "</div>"
      ],
      "text/plain": [
       "                                                   Tweet  Violence_Level\n",
       "0       got to speak with Rep Chip Roy yesterday at t...               1\n",
       "1       got to speak with Rep Chip Roy yesterday at t...               1\n",
       "2       got to speak with Rep Chip Roy yesterday at t...               1\n",
       "3       March For Life Thousands of Pro Life Texans M...               1\n",
       "4       March For Life Thousands of Pro Life Texans M...               1\n",
       "...                                                  ...             ...\n",
       "19160   People calling protesters are really on to so...               1\n",
       "19161   People calling protesters are really on to so...               1\n",
       "19162   People calling protesters are really on to so...               1\n",
       "19163   People calling protesters are really on to so...               1\n",
       "19164   Masked bigots scream and resist arrest at the...               1\n",
       "\n",
       "[19165 rows x 2 columns]"
      ]
     },
     "execution_count": 4,
     "metadata": {},
     "output_type": "execute_result"
    }
   ],
   "source": [
    "low_viol = clean_data13+clean_data5+clean_data9+clean_data11+clean_data12+clean_data14+clean_data15\n",
    "\n",
    "#create df from the list\n",
    "df_low_viol=pd.DataFrame(low_viol,columns=[\"Tweet\"])\n",
    "#add the violence column\n",
    "df_low_viol['Violence_Level']=1\n",
    "df_low_viol"
   ]
  },
  {
   "cell_type": "code",
   "execution_count": 5,
   "metadata": {},
   "outputs": [
    {
     "data": {
      "text/html": [
       "<div>\n",
       "<style scoped>\n",
       "    .dataframe tbody tr th:only-of-type {\n",
       "        vertical-align: middle;\n",
       "    }\n",
       "\n",
       "    .dataframe tbody tr th {\n",
       "        vertical-align: top;\n",
       "    }\n",
       "\n",
       "    .dataframe thead th {\n",
       "        text-align: right;\n",
       "    }\n",
       "</style>\n",
       "<table border=\"1\" class=\"dataframe\">\n",
       "  <thead>\n",
       "    <tr style=\"text-align: right;\">\n",
       "      <th></th>\n",
       "      <th>Tweet</th>\n",
       "      <th>Violence_Level</th>\n",
       "    </tr>\n",
       "  </thead>\n",
       "  <tbody>\n",
       "    <tr>\n",
       "      <th>0</th>\n",
       "      <td>ANTIFADomesticTerrorism</td>\n",
       "      <td>2</td>\n",
       "    </tr>\n",
       "    <tr>\n",
       "      <th>1</th>\n",
       "      <td>To bad we have no leads on an radical organiza...</td>\n",
       "      <td>2</td>\n",
       "    </tr>\n",
       "    <tr>\n",
       "      <th>2</th>\n",
       "      <td>AntifaTerrorists</td>\n",
       "      <td>2</td>\n",
       "    </tr>\n",
       "    <tr>\n",
       "      <th>3</th>\n",
       "      <td>saved Dr Cornel West life when the cops would...</td>\n",
       "      <td>2</td>\n",
       "    </tr>\n",
       "    <tr>\n",
       "      <th>4</th>\n",
       "      <td>saved Dr Cornel West life when the cops would...</td>\n",
       "      <td>2</td>\n",
       "    </tr>\n",
       "    <tr>\n",
       "      <th>...</th>\n",
       "      <td>...</td>\n",
       "      <td>...</td>\n",
       "    </tr>\n",
       "    <tr>\n",
       "      <th>1335</th>\n",
       "      <td>This Friday What is Love doodle</td>\n",
       "      <td>2</td>\n",
       "    </tr>\n",
       "    <tr>\n",
       "      <th>1336</th>\n",
       "      <td>This Friday What is Love doodle</td>\n",
       "      <td>2</td>\n",
       "    </tr>\n",
       "    <tr>\n",
       "      <th>1337</th>\n",
       "      <td>This Friday What is Love doodle</td>\n",
       "      <td>2</td>\n",
       "    </tr>\n",
       "    <tr>\n",
       "      <th>1338</th>\n",
       "      <td>This Friday What is Love doodle</td>\n",
       "      <td>2</td>\n",
       "    </tr>\n",
       "    <tr>\n",
       "      <th>1339</th>\n",
       "      <td>JazzJennings Thank you for making path for ot...</td>\n",
       "      <td>2</td>\n",
       "    </tr>\n",
       "  </tbody>\n",
       "</table>\n",
       "<p>1340 rows × 2 columns</p>\n",
       "</div>"
      ],
      "text/plain": [
       "                                                  Tweet  Violence_Level\n",
       "0                              ANTIFADomesticTerrorism                2\n",
       "1     To bad we have no leads on an radical organiza...               2\n",
       "2                                     AntifaTerrorists                2\n",
       "3      saved Dr Cornel West life when the cops would...               2\n",
       "4      saved Dr Cornel West life when the cops would...               2\n",
       "...                                                 ...             ...\n",
       "1335                   This Friday What is Love doodle                2\n",
       "1336                   This Friday What is Love doodle                2\n",
       "1337                   This Friday What is Love doodle                2\n",
       "1338                   This Friday What is Love doodle                2\n",
       "1339   JazzJennings Thank you for making path for ot...               2\n",
       "\n",
       "[1340 rows x 2 columns]"
      ]
     },
     "execution_count": 5,
     "metadata": {},
     "output_type": "execute_result"
    }
   ],
   "source": [
    "med_viol = clean_data18+clean_data17\n",
    "#create df from the list\n",
    "df_med_viol=pd.DataFrame(med_viol,columns=[\"Tweet\"])\n",
    "#add the violence column\n",
    "df_med_viol['Violence_Level']=2\n",
    "df_med_viol"
   ]
  },
  {
   "cell_type": "code",
   "execution_count": 6,
   "metadata": {},
   "outputs": [
    {
     "data": {
      "text/html": [
       "<div>\n",
       "<style scoped>\n",
       "    .dataframe tbody tr th:only-of-type {\n",
       "        vertical-align: middle;\n",
       "    }\n",
       "\n",
       "    .dataframe tbody tr th {\n",
       "        vertical-align: top;\n",
       "    }\n",
       "\n",
       "    .dataframe thead th {\n",
       "        text-align: right;\n",
       "    }\n",
       "</style>\n",
       "<table border=\"1\" class=\"dataframe\">\n",
       "  <thead>\n",
       "    <tr style=\"text-align: right;\">\n",
       "      <th></th>\n",
       "      <th>Tweet</th>\n",
       "      <th>Violence_Level</th>\n",
       "    </tr>\n",
       "  </thead>\n",
       "  <tbody>\n",
       "    <tr>\n",
       "      <th>0</th>\n",
       "      <td>JoyAnnReid here that reaction shot you were l...</td>\n",
       "      <td>3</td>\n",
       "    </tr>\n",
       "    <tr>\n",
       "      <th>1</th>\n",
       "      <td>Well Mnuchin and Cohn can just fuck right off ...</td>\n",
       "      <td>3</td>\n",
       "    </tr>\n",
       "    <tr>\n",
       "      <th>2</th>\n",
       "      <td>Good Read Alt right sites believe the counter ...</td>\n",
       "      <td>3</td>\n",
       "    </tr>\n",
       "    <tr>\n",
       "      <th>3</th>\n",
       "      <td>Very fine people do not associate with Nazis ...</td>\n",
       "      <td>3</td>\n",
       "    </tr>\n",
       "    <tr>\n",
       "      <th>4</th>\n",
       "      <td>guardian Great article but small correction t...</td>\n",
       "      <td>3</td>\n",
       "    </tr>\n",
       "    <tr>\n",
       "      <th>...</th>\n",
       "      <td>...</td>\n",
       "      <td>...</td>\n",
       "    </tr>\n",
       "    <tr>\n",
       "      <th>4802</th>\n",
       "      <td>Thoughtful intelligent dialogue on tonight mis...</td>\n",
       "      <td>3</td>\n",
       "    </tr>\n",
       "    <tr>\n",
       "      <th>4803</th>\n",
       "      <td>In Charlottesville the Local Jewish Community ...</td>\n",
       "      <td>3</td>\n",
       "    </tr>\n",
       "    <tr>\n",
       "      <th>4804</th>\n",
       "      <td>After Charlottesville Trump business buddies h...</td>\n",
       "      <td>3</td>\n",
       "    </tr>\n",
       "    <tr>\n",
       "      <th>4805</th>\n",
       "      <td>PLEASE RETWEET THIS if you were angered and or...</td>\n",
       "      <td>3</td>\n",
       "    </tr>\n",
       "    <tr>\n",
       "      <th>4806</th>\n",
       "      <td>Rev Graham Issues Brutal Response to Charlotte...</td>\n",
       "      <td>3</td>\n",
       "    </tr>\n",
       "  </tbody>\n",
       "</table>\n",
       "<p>4807 rows × 2 columns</p>\n",
       "</div>"
      ],
      "text/plain": [
       "                                                  Tweet  Violence_Level\n",
       "0      JoyAnnReid here that reaction shot you were l...               3\n",
       "1     Well Mnuchin and Cohn can just fuck right off ...               3\n",
       "2     Good Read Alt right sites believe the counter ...               3\n",
       "3      Very fine people do not associate with Nazis ...               3\n",
       "4      guardian Great article but small correction t...               3\n",
       "...                                                 ...             ...\n",
       "4802  Thoughtful intelligent dialogue on tonight mis...               3\n",
       "4803  In Charlottesville the Local Jewish Community ...               3\n",
       "4804  After Charlottesville Trump business buddies h...               3\n",
       "4805  PLEASE RETWEET THIS if you were angered and or...               3\n",
       "4806  Rev Graham Issues Brutal Response to Charlotte...               3\n",
       "\n",
       "[4807 rows x 2 columns]"
      ]
     },
     "execution_count": 6,
     "metadata": {},
     "output_type": "execute_result"
    }
   ],
   "source": [
    "high_viol=clean_dataChar\n",
    "#create df from the list\n",
    "df_high_viol=pd.DataFrame(high_viol,columns=[\"Tweet\"])\n",
    "#add the violence column\n",
    "df_high_viol['Violence_Level']=3\n",
    "df_high_viol"
   ]
  },
  {
   "cell_type": "code",
   "execution_count": 7,
   "metadata": {},
   "outputs": [],
   "source": [
    "combine_dataset=pd.concat([df_zero_viol,df_low_viol,df_med_viol,df_high_viol])"
   ]
  },
  {
   "cell_type": "code",
   "execution_count": 8,
   "metadata": {},
   "outputs": [
    {
     "data": {
      "text/html": [
       "<div>\n",
       "<style scoped>\n",
       "    .dataframe tbody tr th:only-of-type {\n",
       "        vertical-align: middle;\n",
       "    }\n",
       "\n",
       "    .dataframe tbody tr th {\n",
       "        vertical-align: top;\n",
       "    }\n",
       "\n",
       "    .dataframe thead th {\n",
       "        text-align: right;\n",
       "    }\n",
       "</style>\n",
       "<table border=\"1\" class=\"dataframe\">\n",
       "  <thead>\n",
       "    <tr style=\"text-align: right;\">\n",
       "      <th></th>\n",
       "      <th>Tweet</th>\n",
       "      <th>Violence_Level</th>\n",
       "    </tr>\n",
       "  </thead>\n",
       "  <tbody>\n",
       "    <tr>\n",
       "      <th>0</th>\n",
       "      <td>Los Angeles Dodgers LED Flashlight</td>\n",
       "      <td>0</td>\n",
       "    </tr>\n",
       "    <tr>\n",
       "      <th>1</th>\n",
       "      <td>Los Angeles Dodgers LED Flashlight</td>\n",
       "      <td>0</td>\n",
       "    </tr>\n",
       "    <tr>\n",
       "      <th>2</th>\n",
       "      <td>If you re in the Los Angeles CA area stop by a...</td>\n",
       "      <td>0</td>\n",
       "    </tr>\n",
       "    <tr>\n",
       "      <th>3</th>\n",
       "      <td>LA today</td>\n",
       "      <td>0</td>\n",
       "    </tr>\n",
       "    <tr>\n",
       "      <th>4</th>\n",
       "      <td>Jane Lynch calls out Elizabeth Warren on behal...</td>\n",
       "      <td>0</td>\n",
       "    </tr>\n",
       "    <tr>\n",
       "      <th>...</th>\n",
       "      <td>...</td>\n",
       "      <td>...</td>\n",
       "    </tr>\n",
       "    <tr>\n",
       "      <th>4802</th>\n",
       "      <td>Thoughtful intelligent dialogue on tonight mis...</td>\n",
       "      <td>3</td>\n",
       "    </tr>\n",
       "    <tr>\n",
       "      <th>4803</th>\n",
       "      <td>In Charlottesville the Local Jewish Community ...</td>\n",
       "      <td>3</td>\n",
       "    </tr>\n",
       "    <tr>\n",
       "      <th>4804</th>\n",
       "      <td>After Charlottesville Trump business buddies h...</td>\n",
       "      <td>3</td>\n",
       "    </tr>\n",
       "    <tr>\n",
       "      <th>4805</th>\n",
       "      <td>PLEASE RETWEET THIS if you were angered and or...</td>\n",
       "      <td>3</td>\n",
       "    </tr>\n",
       "    <tr>\n",
       "      <th>4806</th>\n",
       "      <td>Rev Graham Issues Brutal Response to Charlotte...</td>\n",
       "      <td>3</td>\n",
       "    </tr>\n",
       "  </tbody>\n",
       "</table>\n",
       "<p>28338 rows × 2 columns</p>\n",
       "</div>"
      ],
      "text/plain": [
       "                                                  Tweet  Violence_Level\n",
       "0                   Los Angeles Dodgers LED Flashlight                0\n",
       "1                   Los Angeles Dodgers LED Flashlight                0\n",
       "2     If you re in the Los Angeles CA area stop by a...               0\n",
       "3                                             LA today                0\n",
       "4     Jane Lynch calls out Elizabeth Warren on behal...               0\n",
       "...                                                 ...             ...\n",
       "4802  Thoughtful intelligent dialogue on tonight mis...               3\n",
       "4803  In Charlottesville the Local Jewish Community ...               3\n",
       "4804  After Charlottesville Trump business buddies h...               3\n",
       "4805  PLEASE RETWEET THIS if you were angered and or...               3\n",
       "4806  Rev Graham Issues Brutal Response to Charlotte...               3\n",
       "\n",
       "[28338 rows x 2 columns]"
      ]
     },
     "execution_count": 8,
     "metadata": {},
     "output_type": "execute_result"
    }
   ],
   "source": [
    "combine_dataset"
   ]
  },
  {
   "cell_type": "code",
   "execution_count": 9,
   "metadata": {},
   "outputs": [],
   "source": [
    "combine_dataset = combine_dataset.sample(frac = 1)"
   ]
  },
  {
   "cell_type": "code",
   "execution_count": 10,
   "metadata": {},
   "outputs": [
    {
     "data": {
      "text/html": [
       "<div>\n",
       "<style scoped>\n",
       "    .dataframe tbody tr th:only-of-type {\n",
       "        vertical-align: middle;\n",
       "    }\n",
       "\n",
       "    .dataframe tbody tr th {\n",
       "        vertical-align: top;\n",
       "    }\n",
       "\n",
       "    .dataframe thead th {\n",
       "        text-align: right;\n",
       "    }\n",
       "</style>\n",
       "<table border=\"1\" class=\"dataframe\">\n",
       "  <thead>\n",
       "    <tr style=\"text-align: right;\">\n",
       "      <th></th>\n",
       "      <th>Tweet</th>\n",
       "      <th>Violence_Level</th>\n",
       "    </tr>\n",
       "  </thead>\n",
       "  <tbody>\n",
       "    <tr>\n",
       "      <th>3331</th>\n",
       "      <td>Standing GlobalRabbi amp thousands of other N...</td>\n",
       "      <td>1</td>\n",
       "    </tr>\n",
       "    <tr>\n",
       "      <th>3552</th>\n",
       "      <td>This is who your company associated with</td>\n",
       "      <td>3</td>\n",
       "    </tr>\n",
       "    <tr>\n",
       "      <th>2724</th>\n",
       "      <td>Why should Catholics stand with our Jewish br...</td>\n",
       "      <td>1</td>\n",
       "    </tr>\n",
       "    <tr>\n",
       "      <th>7846</th>\n",
       "      <td>If hazard reduction is the solution why did t...</td>\n",
       "      <td>1</td>\n",
       "    </tr>\n",
       "    <tr>\n",
       "      <th>13298</th>\n",
       "      <td>Had great afternoon and performing in Whitehal...</td>\n",
       "      <td>1</td>\n",
       "    </tr>\n",
       "    <tr>\n",
       "      <th>...</th>\n",
       "      <td>...</td>\n",
       "      <td>...</td>\n",
       "    </tr>\n",
       "    <tr>\n",
       "      <th>17859</th>\n",
       "      <td>Antifa unveils new slogans in effort to suppo...</td>\n",
       "      <td>1</td>\n",
       "    </tr>\n",
       "    <tr>\n",
       "      <th>17439</th>\n",
       "      <td>agree there needs to be some change with the ...</td>\n",
       "      <td>1</td>\n",
       "    </tr>\n",
       "    <tr>\n",
       "      <th>1534</th>\n",
       "      <td>stand in solidarity our Jewish brothers and s...</td>\n",
       "      <td>1</td>\n",
       "    </tr>\n",
       "    <tr>\n",
       "      <th>6899</th>\n",
       "      <td>Can we please stop using the new normal in rel...</td>\n",
       "      <td>1</td>\n",
       "    </tr>\n",
       "    <tr>\n",
       "      <th>7676</th>\n",
       "      <td>In solidarity with everyone who protested ton...</td>\n",
       "      <td>1</td>\n",
       "    </tr>\n",
       "  </tbody>\n",
       "</table>\n",
       "<p>28338 rows × 2 columns</p>\n",
       "</div>"
      ],
      "text/plain": [
       "                                                   Tweet  Violence_Level\n",
       "3331    Standing GlobalRabbi amp thousands of other N...               1\n",
       "3552           This is who your company associated with                3\n",
       "2724    Why should Catholics stand with our Jewish br...               1\n",
       "7846    If hazard reduction is the solution why did t...               1\n",
       "13298  Had great afternoon and performing in Whitehal...               1\n",
       "...                                                  ...             ...\n",
       "17859   Antifa unveils new slogans in effort to suppo...               1\n",
       "17439   agree there needs to be some change with the ...               1\n",
       "1534    stand in solidarity our Jewish brothers and s...               1\n",
       "6899   Can we please stop using the new normal in rel...               1\n",
       "7676    In solidarity with everyone who protested ton...               1\n",
       "\n",
       "[28338 rows x 2 columns]"
      ]
     },
     "execution_count": 10,
     "metadata": {},
     "output_type": "execute_result"
    }
   ],
   "source": [
    "combine_dataset"
   ]
  },
  {
   "cell_type": "code",
   "execution_count": 11,
   "metadata": {},
   "outputs": [],
   "source": [
    "train_validate, test = combine_dataset[0:26000], combine_dataset[26000:] #divide data for train+validation and test"
   ]
  },
  {
   "cell_type": "code",
   "execution_count": 12,
   "metadata": {},
   "outputs": [
    {
     "data": {
      "text/html": [
       "<div>\n",
       "<style scoped>\n",
       "    .dataframe tbody tr th:only-of-type {\n",
       "        vertical-align: middle;\n",
       "    }\n",
       "\n",
       "    .dataframe tbody tr th {\n",
       "        vertical-align: top;\n",
       "    }\n",
       "\n",
       "    .dataframe thead th {\n",
       "        text-align: right;\n",
       "    }\n",
       "</style>\n",
       "<table border=\"1\" class=\"dataframe\">\n",
       "  <thead>\n",
       "    <tr style=\"text-align: right;\">\n",
       "      <th></th>\n",
       "      <th>Tweet</th>\n",
       "      <th>Violence_Level</th>\n",
       "    </tr>\n",
       "  </thead>\n",
       "  <tbody>\n",
       "    <tr>\n",
       "      <th>3331</th>\n",
       "      <td>Standing GlobalRabbi amp thousands of other N...</td>\n",
       "      <td>1</td>\n",
       "    </tr>\n",
       "    <tr>\n",
       "      <th>3552</th>\n",
       "      <td>This is who your company associated with</td>\n",
       "      <td>3</td>\n",
       "    </tr>\n",
       "    <tr>\n",
       "      <th>2724</th>\n",
       "      <td>Why should Catholics stand with our Jewish br...</td>\n",
       "      <td>1</td>\n",
       "    </tr>\n",
       "    <tr>\n",
       "      <th>7846</th>\n",
       "      <td>If hazard reduction is the solution why did t...</td>\n",
       "      <td>1</td>\n",
       "    </tr>\n",
       "    <tr>\n",
       "      <th>13298</th>\n",
       "      <td>Had great afternoon and performing in Whitehal...</td>\n",
       "      <td>1</td>\n",
       "    </tr>\n",
       "    <tr>\n",
       "      <th>...</th>\n",
       "      <td>...</td>\n",
       "      <td>...</td>\n",
       "    </tr>\n",
       "    <tr>\n",
       "      <th>15319</th>\n",
       "      <td>wmarchsf</td>\n",
       "      <td>1</td>\n",
       "    </tr>\n",
       "    <tr>\n",
       "      <th>7934</th>\n",
       "      <td>If hazard reduction is the solution why did t...</td>\n",
       "      <td>1</td>\n",
       "    </tr>\n",
       "    <tr>\n",
       "      <th>10479</th>\n",
       "      <td>Australia devastating bushfires have brought ...</td>\n",
       "      <td>1</td>\n",
       "    </tr>\n",
       "    <tr>\n",
       "      <th>516</th>\n",
       "      <td>See virtual tour of one of our newest ACADIAN ...</td>\n",
       "      <td>0</td>\n",
       "    </tr>\n",
       "    <tr>\n",
       "      <th>638</th>\n",
       "      <td>About ready to head to the March For Life rall...</td>\n",
       "      <td>1</td>\n",
       "    </tr>\n",
       "  </tbody>\n",
       "</table>\n",
       "<p>26000 rows × 2 columns</p>\n",
       "</div>"
      ],
      "text/plain": [
       "                                                   Tweet  Violence_Level\n",
       "3331    Standing GlobalRabbi amp thousands of other N...               1\n",
       "3552           This is who your company associated with                3\n",
       "2724    Why should Catholics stand with our Jewish br...               1\n",
       "7846    If hazard reduction is the solution why did t...               1\n",
       "13298  Had great afternoon and performing in Whitehal...               1\n",
       "...                                                  ...             ...\n",
       "15319                                          wmarchsf                1\n",
       "7934    If hazard reduction is the solution why did t...               1\n",
       "10479   Australia devastating bushfires have brought ...               1\n",
       "516    See virtual tour of one of our newest ACADIAN ...               0\n",
       "638    About ready to head to the March For Life rall...               1\n",
       "\n",
       "[26000 rows x 2 columns]"
      ]
     },
     "execution_count": 12,
     "metadata": {},
     "output_type": "execute_result"
    }
   ],
   "source": [
    "train_validate"
   ]
  },
  {
   "cell_type": "code",
   "execution_count": 13,
   "metadata": {},
   "outputs": [
    {
     "data": {
      "text/html": [
       "<div>\n",
       "<style scoped>\n",
       "    .dataframe tbody tr th:only-of-type {\n",
       "        vertical-align: middle;\n",
       "    }\n",
       "\n",
       "    .dataframe tbody tr th {\n",
       "        vertical-align: top;\n",
       "    }\n",
       "\n",
       "    .dataframe thead th {\n",
       "        text-align: right;\n",
       "    }\n",
       "</style>\n",
       "<table border=\"1\" class=\"dataframe\">\n",
       "  <thead>\n",
       "    <tr style=\"text-align: right;\">\n",
       "      <th></th>\n",
       "      <th>Tweet</th>\n",
       "      <th>Violence_Level</th>\n",
       "    </tr>\n",
       "  </thead>\n",
       "  <tbody>\n",
       "    <tr>\n",
       "      <th>18760</th>\n",
       "      <td>People calling protesters are really on to so...</td>\n",
       "      <td>1</td>\n",
       "    </tr>\n",
       "    <tr>\n",
       "      <th>8934</th>\n",
       "      <td>ScottyfromMarketing has had lot more advice o...</td>\n",
       "      <td>1</td>\n",
       "    </tr>\n",
       "    <tr>\n",
       "      <th>7337</th>\n",
       "      <td>insiders The most infuriating interview sudde...</td>\n",
       "      <td>1</td>\n",
       "    </tr>\n",
       "    <tr>\n",
       "      <th>11982</th>\n",
       "      <td>Doesn really do it justice but just part of S...</td>\n",
       "      <td>1</td>\n",
       "    </tr>\n",
       "    <tr>\n",
       "      <th>18244</th>\n",
       "      <td>Masked bigots scream and resist arrest at the...</td>\n",
       "      <td>1</td>\n",
       "    </tr>\n",
       "    <tr>\n",
       "      <th>...</th>\n",
       "      <td>...</td>\n",
       "      <td>...</td>\n",
       "    </tr>\n",
       "    <tr>\n",
       "      <th>17859</th>\n",
       "      <td>Antifa unveils new slogans in effort to suppo...</td>\n",
       "      <td>1</td>\n",
       "    </tr>\n",
       "    <tr>\n",
       "      <th>17439</th>\n",
       "      <td>agree there needs to be some change with the ...</td>\n",
       "      <td>1</td>\n",
       "    </tr>\n",
       "    <tr>\n",
       "      <th>1534</th>\n",
       "      <td>stand in solidarity our Jewish brothers and s...</td>\n",
       "      <td>1</td>\n",
       "    </tr>\n",
       "    <tr>\n",
       "      <th>6899</th>\n",
       "      <td>Can we please stop using the new normal in rel...</td>\n",
       "      <td>1</td>\n",
       "    </tr>\n",
       "    <tr>\n",
       "      <th>7676</th>\n",
       "      <td>In solidarity with everyone who protested ton...</td>\n",
       "      <td>1</td>\n",
       "    </tr>\n",
       "  </tbody>\n",
       "</table>\n",
       "<p>2338 rows × 2 columns</p>\n",
       "</div>"
      ],
      "text/plain": [
       "                                                   Tweet  Violence_Level\n",
       "18760   People calling protesters are really on to so...               1\n",
       "8934    ScottyfromMarketing has had lot more advice o...               1\n",
       "7337    insiders The most infuriating interview sudde...               1\n",
       "11982   Doesn really do it justice but just part of S...               1\n",
       "18244   Masked bigots scream and resist arrest at the...               1\n",
       "...                                                  ...             ...\n",
       "17859   Antifa unveils new slogans in effort to suppo...               1\n",
       "17439   agree there needs to be some change with the ...               1\n",
       "1534    stand in solidarity our Jewish brothers and s...               1\n",
       "6899   Can we please stop using the new normal in rel...               1\n",
       "7676    In solidarity with everyone who protested ton...               1\n",
       "\n",
       "[2338 rows x 2 columns]"
      ]
     },
     "execution_count": 13,
     "metadata": {},
     "output_type": "execute_result"
    }
   ],
   "source": [
    "test"
   ]
  },
  {
   "cell_type": "code",
   "execution_count": 16,
   "metadata": {},
   "outputs": [],
   "source": [
    "X = train_validate[train_validate.columns[0]]\n",
    "y_int = train_validate.drop(combine_dataset.columns[0], axis = 1)"
   ]
  },
  {
   "cell_type": "code",
   "execution_count": 17,
   "metadata": {},
   "outputs": [],
   "source": [
    "#To Categorical Data\n",
    "from keras.utils import to_categorical\n",
    "y = to_categorical(train_validate['Violence_Level'])"
   ]
  },
  {
   "cell_type": "markdown",
   "metadata": {},
   "source": [
    "ELMo"
   ]
  },
  {
   "cell_type": "code",
   "execution_count": 2,
   "metadata": {},
   "outputs": [
    {
     "name": "stderr",
     "output_type": "stream",
     "text": [
      "Using TensorFlow backend.\n"
     ]
    }
   ],
   "source": [
    "import keras\n",
    "import keras.utils\n",
    "from keras import utils as np_utils"
   ]
  },
  {
   "cell_type": "code",
   "execution_count": 3,
   "metadata": {},
   "outputs": [],
   "source": [
    "embed = hub.Module(\"https://tfhub.dev/google/elmo/3\", trainable=True)\n",
    "def ELMoEmbedding(x):\n",
    "    return embed(tf.squeeze(tf.cast(x, tf.string)), signature=\"default\", as_dict=True)[\"default\"]"
   ]
  },
  {
   "cell_type": "code",
   "execution_count": 4,
   "metadata": {},
   "outputs": [
    {
     "name": "stdout",
     "output_type": "stream",
     "text": [
      "INFO:tensorflow:Saver not created because there are no variables in the graph to restore\n"
     ]
    },
    {
     "name": "stderr",
     "output_type": "stream",
     "text": [
      "INFO:tensorflow:Saver not created because there are no variables in the graph to restore\n"
     ]
    },
    {
     "name": "stdout",
     "output_type": "stream",
     "text": [
      "WARNING:tensorflow:From C:\\Users\\Alicja\\Anaconda3\\lib\\site-packages\\tensorflow_core\\python\\ops\\resource_variable_ops.py:1630: calling BaseResourceVariable.__init__ (from tensorflow.python.ops.resource_variable_ops) with constraint is deprecated and will be removed in a future version.\n",
      "Instructions for updating:\n",
      "If using Keras pass *_constraint arguments to layers.\n"
     ]
    },
    {
     "name": "stderr",
     "output_type": "stream",
     "text": [
      "WARNING:tensorflow:From C:\\Users\\Alicja\\Anaconda3\\lib\\site-packages\\tensorflow_core\\python\\ops\\resource_variable_ops.py:1630: calling BaseResourceVariable.__init__ (from tensorflow.python.ops.resource_variable_ops) with constraint is deprecated and will be removed in a future version.\n",
      "Instructions for updating:\n",
      "If using Keras pass *_constraint arguments to layers.\n"
     ]
    }
   ],
   "source": [
    "def build_model(): \n",
    "    input_text = Input(shape=(1,), dtype=tf.string)\n",
    "    embedding = Lambda(ELMoEmbedding, output_shape=(1024, ))(input_text)\n",
    "    dense = Dense(256, activation='relu', kernel_regularizer=keras.regularizers.l2(0.001))(embedding)\n",
    "    pred = Dense(4, activation='softmax')(dense)\n",
    "    model = Model(inputs=[input_text], outputs=pred)\n",
    "    model.compile(loss='categorical_crossentropy', optimizer='adam', metrics=['accuracy'])\n",
    "    return model\n",
    "model_elmo = build_model()"
   ]
  },
  {
   "cell_type": "code",
   "execution_count": 5,
   "metadata": {},
   "outputs": [
    {
     "name": "stdout",
     "output_type": "stream",
     "text": [
      "Model: \"model\"\n",
      "_________________________________________________________________\n",
      "Layer (type)                 Output Shape              Param #   \n",
      "=================================================================\n",
      "input_1 (InputLayer)         [(None, 1)]               0         \n",
      "_________________________________________________________________\n",
      "lambda (Lambda)              (None, 1024)              0         \n",
      "_________________________________________________________________\n",
      "dense (Dense)                (None, 256)               262400    \n",
      "_________________________________________________________________\n",
      "dense_1 (Dense)              (None, 4)                 1028      \n",
      "=================================================================\n",
      "Total params: 263,428\n",
      "Trainable params: 263,428\n",
      "Non-trainable params: 0\n",
      "_________________________________________________________________\n"
     ]
    }
   ],
   "source": [
    "model_elmo.summary()"
   ]
  },
  {
   "cell_type": "code",
   "execution_count": 37,
   "metadata": {},
   "outputs": [
    {
     "name": "stdout",
     "output_type": "stream",
     "text": [
      "Train on 20800 samples, validate on 5200 samples\n",
      "20800/20800 [==============================] - 2019s 97ms/sample - loss: 0.7158 - acc: 0.8670 - val_loss: 0.4444 - val_acc: 0.9460\n"
     ]
    }
   ],
   "source": [
    "#Train and Validate\n",
    "with tf.Session() as session:\n",
    "    K.set_session(session)\n",
    "    session.run(tf.global_variables_initializer())  \n",
    "    session.run(tf.tables_initializer())\n",
    "    history = model_elmo.fit(X, y, epochs=1, batch_size=256, validation_split = 0.2)\n",
    "    model_elmo.save_weights('./model_elmo_weights.h5')"
   ]
  },
  {
   "cell_type": "code",
   "execution_count": 23,
   "metadata": {},
   "outputs": [
    {
     "data": {
      "image/png": "[encoded data removed]",
      "text/plain": [
       "<Figure size 432x288 with 1 Axes>"
      ]
     },
     "metadata": {
      "needs_background": "light"
     },
     "output_type": "display_data"
    }
   ],
   "source": [
    "import matplotlib.pyplot as plt\n",
    "%matplotlib inline\n",
    "\n",
    "acc = history.history['acc']\n",
    "val_acc = history.history['val_acc']\n",
    "loss = history.history['loss']\n",
    "val_loss = history.history['val_loss']\n",
    "\n",
    "epochs = range(1, len(acc) + 1)\n",
    "\n",
    "plt.plot(epochs, acc, 'g', label='Training Acc')\n",
    "plt.plot(epochs, val_acc, 'b', label='Validation Acc')\n",
    "plt.title('Training and Validation Acc')\n",
    "plt.xlabel('Epochs')\n",
    "plt.ylabel('Acc')\n",
    "plt.legend()\n",
    "\n",
    "plt.show()"
   ]
  },
  {
   "cell_type": "code",
   "execution_count": 31,
   "metadata": {},
   "outputs": [
    {
     "data": {
      "image/png": "[encoded data removed]",
      "text/plain": [
       "<Figure size 432x288 with 1 Axes>"
      ]
     },
     "metadata": {
      "needs_background": "light"
     },
     "output_type": "display_data"
    }
   ],
   "source": [
    "import matplotlib.pyplot as plt\n",
    "%matplotlib inline\n",
    "\n",
    "acc = history.history['acc']\n",
    "val_acc = history.history['val_acc']\n",
    "loss = history.history['loss']\n",
    "val_loss = history.history['val_loss']\n",
    "\n",
    "epochs = range(1, len(acc) + 1)\n",
    "\n",
    "plt.plot(epochs, loss, 'g', label='Training Loss')\n",
    "plt.plot(epochs, val_loss, 'b', label='Validation Loss')\n",
    "plt.title('Training and Validation Loss')\n",
    "plt.xlabel('Epochs')\n",
    "plt.ylabel('Loss')\n",
    "plt.legend()\n",
    "\n",
    "plt.show()"
   ]
  },
  {
   "cell_type": "code",
   "execution_count": 25,
   "metadata": {},
   "outputs": [
    {
     "name": "stdout",
     "output_type": "stream",
     "text": [
      "<tensorflow.python.keras.engine.training.Model object at 0x000001147D636288>\n"
     ]
    }
   ],
   "source": [
    "print(model_elmo)"
   ]
  },
  {
   "cell_type": "code",
   "execution_count": 25,
   "metadata": {},
   "outputs": [],
   "source": [
    "#Test\n",
    "X_test2 = test[test.columns[0]]\n",
    "y_int = test.drop(test.columns[0], axis = 1)"
   ]
  },
  {
   "cell_type": "code",
   "execution_count": 26,
   "metadata": {},
   "outputs": [
    {
     "data": {
      "text/plain": [
       "18760     People calling protesters are really on to so...\n",
       "8934      ScottyfromMarketing has had lot more advice o...\n",
       "7337      insiders The most infuriating interview sudde...\n",
       "11982     Doesn really do it justice but just part of S...\n",
       "18244     Masked bigots scream and resist arrest at the...\n",
       "                               ...                        \n",
       "17859     Antifa unveils new slogans in effort to suppo...\n",
       "17439     agree there needs to be some change with the ...\n",
       "1534      stand in solidarity our Jewish brothers and s...\n",
       "6899     Can we please stop using the new normal in rel...\n",
       "7676      In solidarity with everyone who protested ton...\n",
       "Name: Tweet, Length: 2338, dtype: object"
      ]
     },
     "execution_count": 26,
     "metadata": {},
     "output_type": "execute_result"
    }
   ],
   "source": [
    "X_test2"
   ]
  },
  {
   "cell_type": "code",
   "execution_count": 27,
   "metadata": {},
   "outputs": [],
   "source": [
    "from keras.utils import to_categorical\n",
    "y_test = to_categorical(test['Violence_Level'])"
   ]
  },
  {
   "cell_type": "code",
   "execution_count": 38,
   "metadata": {},
   "outputs": [
    {
     "name": "stdout",
     "output_type": "stream",
     "text": [
      "INFO:tensorflow:Saver not created because there are no variables in the graph to restore\n"
     ]
    },
    {
     "name": "stderr",
     "output_type": "stream",
     "text": [
      "INFO:tensorflow:Saver not created because there are no variables in the graph to restore\n"
     ]
    },
    {
     "name": "stdout",
     "output_type": "stream",
     "text": [
      "[[1.2877660e-03 9.9126726e-01 3.7955204e-03 3.6493330e-03]\n",
      " [3.4809235e-02 9.3259770e-01 1.0523255e-02 2.2069901e-02]\n",
      " [2.5993226e-02 6.1234230e-01 4.9134996e-03 3.5675094e-01]\n",
      " ...\n",
      " [3.3815735e-04 9.4387215e-01 1.6339658e-02 3.9450034e-02]\n",
      " [3.6480722e-03 9.8125744e-01 9.6925441e-03 5.4018921e-03]\n",
      " [8.5539352e-03 9.2455178e-01 5.4010870e-03 6.1493240e-02]]\n",
      "2338/2338 [==============================] - 244s 104ms/sample - loss: 0.4446 - acc: 0.9491\n"
     ]
    }
   ],
   "source": [
    "with tf.Session() as session:\n",
    "    K.set_session(session)\n",
    "    session.run(tf.global_variables_initializer())  \n",
    "    session.run(tf.tables_initializer())\n",
    "    model_elmo = build_model() \n",
    "    model_elmo.load_weights('./model_elmo_weights.h5')\n",
    "    predicts = model_elmo.predict(X_test2)\n",
    "    print(predicts)\n",
    "    results = model_elmo.evaluate(X_test2, y_test, batch_size=256)"
   ]
  },
  {
   "cell_type": "code",
   "execution_count": 35,
   "metadata": {},
   "outputs": [
    {
     "name": "stdout",
     "output_type": "stream",
     "text": [
      "Model: \"model_3\"\n",
      "_________________________________________________________________\n",
      "Layer (type)                 Output Shape              Param #   \n",
      "=================================================================\n",
      "input_4 (InputLayer)         [(None, 1)]               0         \n",
      "_________________________________________________________________\n",
      "lambda_3 (Lambda)            (None, 1024)              0         \n",
      "_________________________________________________________________\n",
      "dense_6 (Dense)              (None, 256)               262400    \n",
      "_________________________________________________________________\n",
      "dense_7 (Dense)              (None, 4)                 1028      \n",
      "=================================================================\n",
      "Total params: 263,428\n",
      "Trainable params: 263,428\n",
      "Non-trainable params: 0\n",
      "_________________________________________________________________\n"
     ]
    }
   ],
   "source": [
    "model_elmo.summary()"
   ]
  }
 ],
 "metadata": {
  "kernelspec": {
   "display_name": "Python 3",
   "language": "python",
   "name": "python3"
  },
  "language_info": {
   "codemirror_mode": {
    "name": "ipython",
    "version": 3
   },
   "file_extension": ".py",
   "mimetype": "text/x-python",
   "name": "python",
   "nbconvert_exporter": "python",
   "pygments_lexer": "ipython3",
   "version": "3.7.5"
  }
 },
 "nbformat": 4,
 "nbformat_minor": 2
}
